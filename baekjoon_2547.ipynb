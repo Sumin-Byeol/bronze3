{
 "cells": [
  {
   "cell_type": "markdown",
   "metadata": {},
   "source": [
    "### 2/27 - 2547번_사탕 선생 고창영_박태은"
   ]
  },
  {
   "cell_type": "code",
   "execution_count": 9,
   "metadata": {},
   "outputs": [
    {
     "name": "stdout",
     "output_type": "stream",
     "text": [
      "YES\n",
      "NO\n"
     ]
    }
   ],
   "source": [
    "T = int(input(\"T 입력\"))  # 테스트 케이스 개수\n",
    "\n",
    "for _ in range(T):\n",
    "    input()  # 빈 줄 생성\n",
    "\n",
    "    N = int(input(\"N입력\"))    # 학생의 수 \n",
    "    candies =[int(input(\"사탕 개수입력\")) for _ in range(N)] # N명의 학생들이 가져온 사탕 개수 입력\n",
    "    # print(candies)\n",
    "    total_candies = sum(candies)  # 사탕 개수의 총합(위에서 입력받은 사탕의 개수 총합)\n",
    "\n",
    "    if total_candies % N == 0:  # 사탕 개수 총합을 사탕의 수로 나눴을때 나머지가 없으면 YES\n",
    "        print(\"YES\")\n",
    "    else:       # 그렇지 않으면 NO\n",
    "        print(\"NO\")\n"
   ]
  }
 ],
 "metadata": {
  "kernelspec": {
   "display_name": "Python 3",
   "language": "python",
   "name": "python3"
  },
  "language_info": {
   "codemirror_mode": {
    "name": "ipython",
    "version": 3
   },
   "file_extension": ".py",
   "mimetype": "text/x-python",
   "name": "python",
   "nbconvert_exporter": "python",
   "pygments_lexer": "ipython3",
   "version": "3.12.1"
  }
 },
 "nbformat": 4,
 "nbformat_minor": 2
}
