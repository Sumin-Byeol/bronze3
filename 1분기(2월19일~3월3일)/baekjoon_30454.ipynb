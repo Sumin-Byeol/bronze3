{
 "cells": [
  {
   "cell_type": "markdown",
   "metadata": {},
   "source": [
    "### 02/25 - 30454번_얼룩말을 찾아라_박태은"
   ]
  },
  {
   "cell_type": "code",
   "execution_count": 2,
   "metadata": {},
   "outputs": [
    {
     "name": "stdout",
     "output_type": "stream",
     "text": [
      "4 3\n"
     ]
    }
   ],
   "source": [
    "# N : 얼룩말의 개체수, L: 얼룩말의 몸통 길이\n",
    "N, L  = map(int, input().strip().split())\n",
    "\n",
    "stripes = [] # 밑에서 줄무늬 pattern을 입력받아 바깥에 있는 stripes의 빈 리스트에 append하여 추가\n",
    "\n",
    "for _ in range(N):\n",
    "    pattern = input()\n",
    "    stripes.append(pattern)\n",
    "\n",
    "# 리스트에 잘 담겼나 확인 해보기\n",
    "# print(stripes) : ['110010101', '101010100', '000011111', '011011010', '100100101']\n",
    "\n",
    "# 저 중에서 가장 아름다운 얼룩말 찾기\n",
    "max_stripes = 0 # 가장 아름다운 얼룩말이 가지고 있는 검은 줄의 개수\n",
    "zebra_count = 0 # 그런 얼룩말의 개체수\n",
    "\n",
    "for stripe in stripes:\n",
    "    count = 0\n",
    "    for i in range(len(stripe)):\n",
    "        if stripe[i] == '1' and (i == 0 or stripe[i-1] == '0'):\n",
    "            count += 1\n",
    "\n",
    "    if count > max_stripes:\n",
    "        max_stripes = count\n",
    "        zebra_count = 1\n",
    "    elif count == max_stripes:\n",
    "        zebra_count += 1\n",
    "\n",
    "print(max_stripes, zebra_count)"
   ]
  }
 ],
 "metadata": {
  "kernelspec": {
   "display_name": "Python 3",
   "language": "python",
   "name": "python3"
  },
  "language_info": {
   "codemirror_mode": {
    "name": "ipython",
    "version": 3
   },
   "file_extension": ".py",
   "mimetype": "text/x-python",
   "name": "python",
   "nbconvert_exporter": "python",
   "pygments_lexer": "ipython3",
   "version": "3.12.1"
  }
 },
 "nbformat": 4,
 "nbformat_minor": 2
}
