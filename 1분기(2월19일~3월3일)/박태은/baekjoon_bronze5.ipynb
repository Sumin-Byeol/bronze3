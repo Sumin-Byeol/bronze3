{
 "cells": [
  {
   "cell_type": "markdown",
   "metadata": {},
   "source": [
    "### Day01 (2/19) - 1271번_ 엄청난 부자2"
   ]
  },
  {
   "cell_type": "code",
   "execution_count": 1,
   "metadata": {},
   "outputs": [
    {
     "name": "stdout",
     "output_type": "stream",
     "text": [
      "10\n",
      "0\n"
     ]
    }
   ],
   "source": [
    "n , m = map(int, input().split())\n",
    "print(n // m)\n",
    "print(n % m)"
   ]
  },
  {
   "cell_type": "markdown",
   "metadata": {},
   "source": [
    "### Day02 (2/20) - 30676번_이 별은 무슨 색일까"
   ]
  },
  {
   "cell_type": "code",
   "execution_count": 2,
   "metadata": {},
   "outputs": [
    {
     "name": "stdout",
     "output_type": "stream",
     "text": [
      "Green\n"
     ]
    }
   ],
   "source": [
    "wavelength = int(input())\n",
    "\n",
    "\n",
    "if 620 <= wavelength <= 780:\n",
    "    print(\"Red\")\n",
    "elif 590 <= wavelength < 620:\n",
    "    print(\"Orange\")\n",
    "elif 570 <= wavelength < 590:\n",
    "    print(\"Yellow\")\n",
    "elif 495 <= wavelength < 570:\n",
    "    print(\"Green\")\n",
    "elif 450 <= wavelength < 495:\n",
    "    print(\"Blue\")\n",
    "elif 425 <= wavelength < 450:\n",
    "    print(\"Indigo\")\n",
    "elif 380 <= wavelength < 425:\n",
    "    print(\"Violet\")"
   ]
  }
 ],
 "metadata": {
  "kernelspec": {
   "display_name": "Python 3",
   "language": "python",
   "name": "python3"
  },
  "language_info": {
   "codemirror_mode": {
    "name": "ipython",
    "version": 3
   },
   "file_extension": ".py",
   "mimetype": "text/x-python",
   "name": "python",
   "nbconvert_exporter": "python",
   "pygments_lexer": "ipython3",
   "version": "3.12.1"
  }
 },
 "nbformat": 4,
 "nbformat_minor": 2
}
