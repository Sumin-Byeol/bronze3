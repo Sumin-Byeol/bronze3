{
 "cells": [
  {
   "cell_type": "markdown",
   "metadata": {},
   "source": [
    "### Day03 (2/21) - 2083번_럭비클럽"
   ]
  },
  {
   "cell_type": "code",
   "execution_count": 3,
   "metadata": {},
   "outputs": [
    {
     "name": "stdout",
     "output_type": "stream",
     "text": [
      "Joe Junior\n",
      "Bill Senior\n",
      "Billy Senior\n",
      "Sam Senior\n"
     ]
    }
   ],
   "source": [
    "# 무한반복문 시작하고, 특정 조건에서 반복문 빠져나가기\n",
    "while True:\n",
    "    member = input().split()    # 입력받은 문자열 공백 기준으로 split()하여 나누고, 리스트에 담기\n",
    "    name = member[0]        # member의 첫 번째 요소를 name 변수에 할당\n",
    "    age = int(member[1])    # member의 두 번째 요소를 age 변수에 할당\n",
    "    kg = int(member[2])     # member의 세 번째 요소를 kg 변수에 할당\n",
    "\n",
    "    # 이름 조건이 isalpha() -> 알파벳으로만 이루어져있고, 길이가 len() 10 이하인 조건\n",
    "    if name.isalpha() and len(name) <= 10:\n",
    "        if age > 17 or kg >= 80:    # age가 17이상이고, 무게가 80kg 이상이면 \"Senior\" 해당\n",
    "            print(name, 'Senior')\n",
    "        else:\n",
    "            print(name, 'Junior')   # 그렇지 않다면 \"Junior\"\n",
    "    else:\n",
    "        break   # 입력된 조건에서 이름이 알파벳이 아니거나 길이가 10을 초과하면 break로 반복문 탈출!"
   ]
  },
  {
   "cell_type": "markdown",
   "metadata": {},
   "source": [
    "### Day04 (2/22) - 15035번_I Work All Day"
   ]
  },
  {
   "cell_type": "code",
   "execution_count": 11,
   "metadata": {},
   "outputs": [
    {
     "name": "stdout",
     "output_type": "stream",
     "text": [
      "6\n"
     ]
    }
   ],
   "source": [
    "# N : 설정 가능한 높이의 개수\n",
    "# Hi : 설정 가능한 높이들\n",
    "# T : 나무의 높이\n",
    "def find_best_height(N, Hi, T):\n",
    "    min_waste = T   # 초기 낭비값을 T(나무의 전체 높이)로 설정, 가장 큰 낭비값이니까 이거 기준으로 최소 낭비찾기\n",
    "    best_height = 0 # 변수 초기화\n",
    "    for height in Hi:   # for문으로 높이 반복문 실행\n",
    "        waste = T % height  # 낭비 = 나무의 높이 % 현재 높이 \n",
    "        if waste < min_waste:   # 현재 높이의 낭비가 이전에 찾은 최소 낭비보다 작다면 \n",
    "            min_waste = waste   # 최소 낭비를 현재 낭비로 할당\n",
    "            best_height = height    # 최적 높이를 현재 높이로 재할당\n",
    "    return best_height\n",
    "\n",
    "N = int(input())    # 높이 개수 입력 (예시: 3)   \n",
    "Hi = list(map(int, input().split()))    # 가능한 설정 높이 입력(예시: 5 6 8)\n",
    "T = int(input())    # 나무의 높이 입력  (예시: 103)\n",
    "\n",
    "print(find_best_height(N, Hi, T))   # 위에서 설정한 find_best_height 함수 호출하여 결과 출력\n",
    "# 낭비를 최소화하는 설정 높이\n",
    "\n"
   ]
  },
  {
   "cell_type": "markdown",
   "metadata": {},
   "source": [
    "### Day04 (2/23) - 2443번_별 찍기"
   ]
  },
  {
   "cell_type": "code",
   "execution_count": 11,
   "metadata": {},
   "outputs": [
    {
     "name": "stdout",
     "output_type": "stream",
     "text": [
      "*********\n",
      " *******\n",
      "  *****\n",
      "   ***\n",
      "    *\n"
     ]
    }
   ],
   "source": [
    "# 입력받을 숫자 넣기\n",
    "n = int(input())\n",
    "\n",
    "for i in range(n, 0, -1): #n~1 범위 내 순서대로 내림차순 반복\n",
    "    print(\" \"*(n-i)+\"*\"*(i*2-1))\n"
   ]
  },
  {
   "cell_type": "markdown",
   "metadata": {},
   "source": [
    "### Day05 (2/24) - 2460번_ 지능형 기차 2"
   ]
  },
  {
   "cell_type": "code",
   "execution_count": 3,
   "metadata": {},
   "outputs": [
    {
     "name": "stdout",
     "output_type": "stream",
     "text": [
      "42\n"
     ]
    }
   ],
   "source": [
    "max_people = 0  # 탑승 중인 최대 인원수 저장, 변수 초기화\n",
    "now_people = 0  # 현재 탑승 중인 인원수 저장, 변수 초기화\n",
    "\n",
    "for _ in range(10): # 10개 역 반복하며, 각 역에서 승하차 인원 계산\n",
    "    # 내린 사람 수, 타는 사람 수 입력받고 공백 split으로 쪼개고 int(정수)로 바꿔주고\n",
    "    # 내린 사람 수, 타는 사람 수에 각각 저장시킴\n",
    "    get_off, get_in = map(int, input().split())\n",
    "\n",
    "    # 현재 기차 타고 있는 인원 수에서 내린 사람 빼서 현재 인원에 저장\n",
    "    now_people -= get_off\n",
    "    # 위에서 계산한 현재 인원 수에서 타는 사람 더해서 현재 인원에 저장   \n",
    "    now_people += get_in\n",
    "\n",
    "    # 지금까지 최대 탑승 인원수와 현재 탑승 중인 인원수 비교해서 둘 중 더 큰값 뽑아서 max_people에 넣기\n",
    "    max_people = max(max_people, now_people)\n",
    "\n",
    "print(max_people)\n",
    "    "
   ]
  }
 ],
 "metadata": {
  "kernelspec": {
   "display_name": "Python 3",
   "language": "python",
   "name": "python3"
  },
  "language_info": {
   "codemirror_mode": {
    "name": "ipython",
    "version": 3
   },
   "file_extension": ".py",
   "mimetype": "text/x-python",
   "name": "python",
   "nbconvert_exporter": "python",
   "pygments_lexer": "ipython3",
   "version": "3.12.1"
  }
 },
 "nbformat": 4,
 "nbformat_minor": 2
}
