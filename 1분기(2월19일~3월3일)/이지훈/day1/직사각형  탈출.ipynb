{
 "cells": [
  {
   "cell_type": "code",
   "execution_count": null,
   "metadata": {},
   "outputs": [],
   "source": [
    "def low_distances(x, y, w, h):\n",
    "    return(min(x, y, w-x, h-y))\n",
    "\n",
    "#문제 10분차 = 이게 브론즈...?\n",
    "#문제만 한 2000번 본거같은데 그림 그리니까 이해가 바로 되었다...그림을 그리자...제발...ㅜㅜ"
   ]
  }
 ],
 "metadata": {
  "language_info": {
   "name": "python"
  }
 },
 "nbformat": 4,
 "nbformat_minor": 2
}
