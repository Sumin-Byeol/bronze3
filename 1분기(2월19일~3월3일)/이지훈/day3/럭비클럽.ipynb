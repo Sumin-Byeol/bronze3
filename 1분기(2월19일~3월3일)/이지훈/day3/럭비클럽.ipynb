{
 "cells": [
  {
   "cell_type": "code",
   "execution_count": 7,
   "metadata": {},
   "outputs": [],
   "source": [
    "input_name = str(input('Enter your name: ')) \n",
    "input_age = int(input('Enter your age: '))\n",
    "input_weight = int(input('Enter your weight: '))\n",
    "\n",
    "#각 입력값은 문자, 숫자, 숫자로 받습니다. \n",
    "\n",
    "list_of_names = [input_name, input_age, input_weight]\n",
    "\n",
    "\n",
    "if input_age >= 17 or input_weight >= 80:\n",
    "    print(f'{input_name} Senior')\n",
    "    # 조건 충족시 이름과 Senior를 출력\n",
    "elif input_name in '#' and input_age == 0 and input_weight == 0 :\n",
    "    pass\n",
    "    # 만약 이름과 나이, 숫자가 0이라면 출력하지않고 반복문을 종료합니다~\n",
    "else :\n",
    "    print(f'{input_name} Junior')\n",
    "    # 이하 생략시 이름과 Junior를 출력"
   ]
  },
  {
   "cell_type": "code",
   "execution_count": null,
   "metadata": {},
   "outputs": [],
   "source": []
  }
 ],
 "metadata": {
  "kernelspec": {
   "display_name": "Python 3",
   "language": "python",
   "name": "python3"
  },
  "language_info": {
   "codemirror_mode": {
    "name": "ipython",
    "version": 3
   },
   "file_extension": ".py",
   "mimetype": "text/x-python",
   "name": "python",
   "nbconvert_exporter": "python",
   "pygments_lexer": "ipython3",
   "version": "3.9.6"
  }
 },
 "nbformat": 4,
 "nbformat_minor": 2
}
