{
 "cells": [
  {
   "cell_type": "code",
   "execution_count": 1,
   "metadata": {},
   "outputs": [
    {
     "name": "stdout",
     "output_type": "stream",
     "text": [
      "*********\n",
      "*******\n",
      "*****\n",
      "***\n",
      "*\n"
     ]
    }
   ],
   "source": [
    "print('*********')\n",
    "print('*******')\n",
    "print('*****')\n",
    "print('***')\n",
    "print('*')"
   ]
  },
  {
   "cell_type": "code",
   "execution_count": 33,
   "metadata": {},
   "outputs": [
    {
     "name": "stdout",
     "output_type": "stream",
     "text": [
      "*********\n",
      " *******\n",
      "  *****\n",
      "   ***\n",
      "    *\n"
     ]
    }
   ],
   "source": [
    "#초반엔 반복분을 돌리며 홀수번만 별을 출력하는 거라고 접근했는데 for문 역으로 이용하는 접근법 알음\n",
    "#역시 기본기가 없는 만큼 열심힣 해여할듯 싶다\n",
    "\n",
    "n = int(input())\n",
    "\n",
    "for i in range(n, 0, -1): #1부터 n까지 역수 반복하기\n",
    "    print(' ' * (n-i) + '*' * (2*i-1))\n",
    "    #그냥 별 출력은 했는데 이렇게 이쁘게 하는건 공백이 필요하다함 이건 몰라서 구글링...ㅎ\n"
   ]
  },
  {
   "cell_type": "code",
   "execution_count": 14,
   "metadata": {},
   "outputs": [
    {
     "name": "stdout",
     "output_type": "stream",
     "text": [
      "홀수\n"
     ]
    }
   ],
   "source": [
    "n = int(input('번호 입력: '))\n",
    "\n",
    "if n % 2 == 1:\n",
    "    print('홀수')\n",
    "else:\n",
    "    print('짝수')"
   ]
  },
  {
   "cell_type": "code",
   "execution_count": null,
   "metadata": {},
   "outputs": [],
   "source": []
  }
 ],
 "metadata": {
  "kernelspec": {
   "display_name": "Python 3",
   "language": "python",
   "name": "python3"
  },
  "language_info": {
   "codemirror_mode": {
    "name": "ipython",
    "version": 3
   },
   "file_extension": ".py",
   "mimetype": "text/x-python",
   "name": "python",
   "nbconvert_exporter": "python",
   "pygments_lexer": "ipython3",
   "version": "3.9.6"
  }
 },
 "nbformat": 4,
 "nbformat_minor": 2
}
