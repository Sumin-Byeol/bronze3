{
 "cells": [
  {
   "cell_type": "code",
   "execution_count": null,
   "metadata": {},
   "outputs": [],
   "source": [
    "def changeer(number, unit):\n",
    "    if  unit == 'kg':   #단위가 kg일때 ib 변환\n",
    "        change_number = round((number*2.2046), 4)\n",
    "        return f\"{change_number} ib\"\n",
    "    \n",
    "    elif unit == 'l':   #단위가 l일때 g로 변환\n",
    "        change_number = round((number*0.2642), 4)\n",
    "        return f\"{change_number} g\"\n",
    "    \n",
    "    elif unit == 'ib':  #단위가 kg일때 kg으로 변환\n",
    "        change_number = round((number*0.4536), 4)\n",
    "        return f\"{change_number} kg\"\n",
    "    \n",
    "    elif unit == 'g':   #단위가 kg일때 l로 변환\n",
    "        change_number = round((number*3.7854), 4)\n",
    "        return f\"{change_number} l\"\n",
    "    \n",
    "    else :  #단위가 없는 특수 경우일때\n",
    "        return f\" \"\n",
    "    \n",
    "    # 반올림으로 4째자리 까지 표현하라해서\n",
    "    # round를 썼으나 변환단계에서 직접 숫자를 \n",
    "    # 반올림해주지않으면 4째자리 값이 다르다...ㅡㅡ"
   ]
  }
 ],
 "metadata": {
  "language_info": {
   "name": "python"
  }
 },
 "nbformat": 4,
 "nbformat_minor": 2
}
