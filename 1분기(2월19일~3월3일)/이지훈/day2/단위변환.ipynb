{
 "cells": [
  {
   "cell_type": "code",
   "execution_count": 5,
   "metadata": {},
   "outputs": [],
   "source": [
    "def changeer(number, unit):\n",
    "    for _ in range(int(number)):\n",
    "        if  unit == 'kg':   #단위가 kg일때 ib 변환\n",
    "            change_number = round((number*2.2046), 4)\n",
    "            return f\"{change_number} ib\"\n",
    "        \n",
    "        elif unit == 'l':   #단위가 l일때 g로 변환\n",
    "            change_number = round((number*0.2642), 4)\n",
    "            return f\"{change_number} g\"\n",
    "        \n",
    "        elif unit == 'ib':  #단위가 kg일때 kg으로 변환\n",
    "            change_number = round((number*0.4536), 4)\n",
    "            return f\"{change_number} kg\"\n",
    "        \n",
    "        elif unit == 'g':   #단위가 kg일때 l로 변환\n",
    "            change_number = round((number*3.7854), 4)\n",
    "            return f\"{change_number} l\"\n",
    "        \n",
    "        else :  #단위가 없는 특수 경우일때\n",
    "            return f\" \"\n",
    "        \n",
    "        # 반올림으로 4째자리 까지 표현하라해서\n",
    "        # round를 썼으나 변환단계에서 직접 숫자를 \n",
    "        # 반올림해주지않으면 4째자리 값이 다르다...ㅡㅡ"
   ]
  },
  {
   "cell_type": "code",
   "execution_count": 6,
   "metadata": {},
   "outputs": [
    {
     "name": "stdout",
     "output_type": "stream",
     "text": [
      " \n",
      "2.2046 ib\n",
      "0.5284 g\n",
      "3.1752 kg\n",
      "13.2489 l\n",
      "None\n"
     ]
    }
   ],
   "source": [
    "print(changeer(5,\" \"))\n",
    "print(changeer(1,\"kg\"))\n",
    "print(changeer(2,\"l\"))\n",
    "print(changeer(7,\"ib\"))\n",
    "print(changeer(3.5,\"g\"))\n",
    "print(changeer(0,\"l\"))"
   ]
  },
  {
   "cell_type": "code",
   "execution_count": null,
   "metadata": {},
   "outputs": [],
   "source": []
  }
 ],
 "metadata": {
  "kernelspec": {
   "display_name": "Python 3",
   "language": "python",
   "name": "python3"
  },
  "language_info": {
   "codemirror_mode": {
    "name": "ipython",
    "version": 3
   },
   "file_extension": ".py",
   "mimetype": "text/x-python",
   "name": "python",
   "nbconvert_exporter": "python",
   "pygments_lexer": "ipython3",
   "version": "3.12.1"
  }
 },
 "nbformat": 4,
 "nbformat_minor": 2
}
