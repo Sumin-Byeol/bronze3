{
 "cells": [
  {
   "cell_type": "code",
   "execution_count": null,
   "metadata": {},
   "outputs": [],
   "source": [
    "def find_best_setting(n, settings, tree_height):\n",
    "    min_waste = tree_height \n",
    "    best_setting = 0\n",
    "\n",
    "    for setting in settings:\n",
    "        waste = tree_height % setting #니머지 값 저장\n",
    "        if waste < min_waste: #waste가 최소보다 낮을때 \n",
    "            min_waste = waste\n",
    "            best_setting = setting\n",
    "\n",
    "    return best_setting  # 최적 설정 return\n",
    "\n",
    "n = int(input())  # 입력: 설정의 수\n",
    "settings = list(map(int, input().split()))  # 입력: 가능한 설정들\n",
    "tree_height = int(input())  # 입력: 트리의 높이\n",
    "\n",
    "print(find_best_setting(n, settings, tree_height))  # 최적의 설정 출력"
   ]
  }
 ],
 "metadata": {
  "language_info": {
   "name": "python"
  }
 },
 "nbformat": 4,
 "nbformat_minor": 2
}
