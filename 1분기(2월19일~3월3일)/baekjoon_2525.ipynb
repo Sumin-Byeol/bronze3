{
 "cells": [
  {
   "cell_type": "markdown",
   "metadata": {},
   "source": [
    "### 2/26 bronze3_2525 오븐시계_박태은"
   ]
  },
  {
   "cell_type": "code",
   "execution_count": 2,
   "metadata": {},
   "outputs": [
    {
     "name": "stdout",
     "output_type": "stream",
     "text": [
      "14 50\n"
     ]
    }
   ],
   "source": [
    "# h은 시, m은 분을 나타내고, input안에 14 30 (14시30분) 입력하고, h(시)와 m(분)으로 split\n",
    "h, m = map(int, input().split())\n",
    "timer = int(input()) \n",
    "\n",
    "# 추가할 시간을 60으로 나눈 몫, 예를 들면 timer가 120분이면 12 // 60 = 2시간 한거를 현재 h에 더함\n",
    "h += timer // 60\n",
    "# 추가할 시간을 60으로 나눈 나머지, 예를 들면 timer가 70이면 70 % 60 = 10분 한거를 현재 m에 더함\n",
    "m += timer % 60\n",
    "\n",
    "if m >= 60: # 분이 60분 이상이면\n",
    "    h += 1  # h에 1시간을 더하고,\n",
    "    m -= 60 # m이 60분이면 위에서 1시간 증가시켜줬으니까, 여기서 60을 빼줘야한다\n",
    "if h >= 24: # 시가 24시를 넘어가면 다음 날로 넘어간거니까 24시간을 빼주기(다시 0부터 시작하게)\n",
    "    h -= 24\n",
    "print(h,m)\n"
   ]
  }
 ],
 "metadata": {
  "kernelspec": {
   "display_name": "Python 3",
   "language": "python",
   "name": "python3"
  },
  "language_info": {
   "codemirror_mode": {
    "name": "ipython",
    "version": 3
   },
   "file_extension": ".py",
   "mimetype": "text/x-python",
   "name": "python",
   "nbconvert_exporter": "python",
   "pygments_lexer": "ipython3",
   "version": "3.12.1"
  }
 },
 "nbformat": 4,
 "nbformat_minor": 2
}
